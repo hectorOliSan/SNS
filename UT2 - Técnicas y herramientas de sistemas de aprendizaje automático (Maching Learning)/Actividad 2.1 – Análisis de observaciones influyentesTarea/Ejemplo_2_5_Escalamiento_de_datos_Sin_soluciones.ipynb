{
  "nbformat": 4,
  "nbformat_minor": 0,
  "metadata": {
    "colab": {
      "provenance": []
    },
    "kernelspec": {
      "name": "python3",
      "display_name": "Python 3"
    },
    "language_info": {
      "name": "python"
    }
  },
  "cells": [
    {
      "cell_type": "markdown",
      "metadata": {
        "id": "JNlEk7ihS-5l"
      },
      "source": [
        "# **Ejemplo 5:** Escalamiento de datos"
      ]
    },
    {
      "cell_type": "code",
      "metadata": {
        "id": "ZXs_JcsqTF59"
      },
      "source": [
        "# LIBRERÍAS EMPLEADAS EN EL EJEMPLO\n",
        "# Tratamiento de datos\n",
        "# ==============================================================================\n",
        "import numpy as np\n",
        "import pandas as pd\n",
        "# Gráficos\n",
        "# ==============================================================================\n",
        "import matplotlib.pyplot as plt\n",
        "# Preprocesado\n",
        "#==============================================================================\n",
        "from sklearn.compose import ColumnTransformer\n",
        "from sklearn.preprocessing import StandardScaler  # Para el escalamiento Estandarización Z\n",
        "from sklearn.preprocessing import MinMaxScaler # Para el escalamiento por Rangos\n",
        "from sklearn.compose import make_column_selector\n",
        "\n",
        "# Creación del conjunto de datos (dos máquinas embotelladoras)\n",
        "# ==============================================================================\n",
        "muA, sigmaA = 1000, 1 # media y desviación estándar embotelladora A\n",
        "muB, sigmaB = 1000, 4 # media y desviación estándar embotelladora B\n",
        "datosA = np.random.normal(muA, sigmaA, 1000)\n",
        "datosB = np.random.normal(muB, sigmaB, 1000)\n",
        "datos=np.column_stack((datosA, datosB))\n",
        "\n",
        "# Título: ¿qué es un DataFrame?\n",
        "#Url: https://datacarpentry.org/python-ecology-lesson-es/02-starting-with-data/#entonces-qu%C3%A9-es-un-dataframe\n",
        "Data = pd.DataFrame(datos, columns=['Embotelladora_A', 'Embotelladora_B'])\n",
        "\n",
        "# Escalamiento\n",
        "# ==============================================================================\n",
        "# Selección de columnas numéricas\n",
        "numeric_cols = Data.select_dtypes(include=['float64', 'int']).columns.to_list()\n",
        "# Standard scaler - Definimos el tipo de escalamientoa realizar: estandarización Z-score\n",
        "preprocessor_SS = ColumnTransformer(\n",
        "                   [('scale', StandardScaler(), numeric_cols)],remainder='passthrough')\n",
        "\n",
        "# MinMaxScaler - Definimos el tipo de escalamiento a realizar: Estandarización por rangos\n",
        "preprocessor_RR = ColumnTransformer(\n",
        "                   [('scale', MinMaxScaler(), numeric_cols)],remainder='passthrough')\n",
        "\n",
        "Data_prep_SS = preprocessor_SS.fit_transform(Data)\n",
        "Data_prep_RR = preprocessor_RR.fit_transform(Data)\n",
        "# Nota:\n",
        "# Se podría aplicar las transformaciones a cualquier conjunto de datos con\n",
        "# Data_new_prep_SS  = preprocessor_SS.transform(Data_new)\n",
        "Data_prep_SS_v2  = preprocessor_SS.transform(Data) # Podemos observar que los resultados son los mismos que el método fit_transform\n",
        "\n",
        "# Título: Diferencia entre fit_transform() y transform() en Scikit-Learn\n",
        "# Url: https://forum.huawei.com/enterprise/es/diferencia-entre-fit-transform-y-transform-en-scikit-learn/thread/891275-100757"
      ],
      "execution_count": null,
      "outputs": []
    },
    {
      "cell_type": "code",
      "source": [
        "# Tarda unos dos minutos en ejecutarse\n",
        "plt.hist(Data, 50)\n",
        "plt.ylabel('Número de datos')\n",
        "plt.xlabel('valores')\n",
        "plt.title('Histograma antes de escalamiento')\n",
        "plt.show()"
      ],
      "metadata": {
        "colab": {
          "base_uri": "https://localhost:8080/",
          "height": 295
        },
        "id": "gB5pTCLd3QvU",
        "outputId": "f7cf0961-aec7-4194-e6e9-36fb44efb992"
      },
      "execution_count": null,
      "outputs": [
        {
          "output_type": "display_data",
          "data": {
            "text/plain": [
              "<Figure size 432x288 with 1 Axes>"
            ],
            "image/png": "[encoded data removed]"
          },
          "metadata": {
            "needs_background": "light"
          }
        }
      ]
    },
    {
      "cell_type": "markdown",
      "metadata": {
        "id": "msK4x0lsT9aV"
      },
      "source": [
        "Representacióón de los datos escalado con **Standard Scaler**\n",
        " - Estandariación/Escalamiento por desviación típica\n"
      ]
    },
    {
      "cell_type": "code",
      "metadata": {
        "colab": {
          "base_uri": "https://localhost:8080/",
          "height": 295
        },
        "id": "0y6FUrwLUipt",
        "outputId": "0e127816-bba3-431d-8fd4-dc3a6fdf184b"
      },
      "source": [
        "plt.hist(Data_prep_SS, 50)\n",
        "plt.ylabel('Número de datos')\n",
        "plt.xlabel('valores')\n",
        "plt.title('Histograma con Standard scaler - Estandarización Z')\n",
        "plt.show()"
      ],
      "execution_count": null,
      "outputs": [
        {
          "output_type": "display_data",
          "data": {
            "text/plain": [
              "<Figure size 432x288 with 1 Axes>"
            ],
            "image/png": "[encoded data removed]"
          },
          "metadata": {
            "needs_background": "light"
          }
        }
      ]
    },
    {
      "cell_type": "markdown",
      "metadata": {
        "id": "AM9ZLM4Vs64f"
      },
      "source": [
        "**NOTA** Observar que las **dos** variables tienen la misma desviación típica (s=1)"
      ]
    },
    {
      "cell_type": "code",
      "source": [
        "Data_prep_SS.std()\n"
      ],
      "metadata": {
        "colab": {
          "base_uri": "https://localhost:8080/"
        },
        "id": "kVSO26IL7REf",
        "outputId": "9429ed1b-1a07-4cf5-cf95-c2630a733693"
      },
      "execution_count": null,
      "outputs": [
        {
          "output_type": "execute_result",
          "data": {
            "text/plain": [
              "0.9999999999999998"
            ]
          },
          "metadata": {},
          "execution_count": 5
        }
      ]
    },
    {
      "cell_type": "markdown",
      "metadata": {
        "id": "InNWa2tdV1yb"
      },
      "source": [
        "Representación de los datos escalado con **Min Max Scaler** - Estandariación/Escalamiento por rangos\n",
        "\n"
      ]
    },
    {
      "cell_type": "code",
      "metadata": {
        "colab": {
          "base_uri": "https://localhost:8080/",
          "height": 295
        },
        "id": "tb5uNSt5Vgx-",
        "outputId": "5b644b68-f655-47d9-f0eb-b61e6cee372f"
      },
      "source": [
        "plt.hist(Data_prep_RR, 50)\n",
        "plt.ylabel('Número de datos')\n",
        "plt.xlabel('valores')\n",
        "plt.title('Histograma con MinMaxScaler - Por Rangos')\n",
        "plt.show()"
      ],
      "execution_count": null,
      "outputs": [
        {
          "output_type": "display_data",
          "data": {
            "text/plain": [
              "<Figure size 432x288 with 1 Axes>"
            ],
            "image/png": "[encoded data removed]"
          },
          "metadata": {
            "needs_background": "light"
          }
        }
      ]
    },
    {
      "cell_type": "markdown",
      "metadata": {
        "id": "oVEusoT3tST1"
      },
      "source": [
        "**NOTA** Observar que las **dos** variables tienen el mismo rango"
      ]
    },
    {
      "cell_type": "code",
      "source": [
        "#Rango\n",
        "#Data_prep_RR[:,0]\n",
        "np.max(Data_prep_RR[:,0])-np.min(Data_prep_RR[:,0])"
      ],
      "metadata": {
        "colab": {
          "base_uri": "https://localhost:8080/"
        },
        "id": "1wmnQasXIbl3",
        "outputId": "39f61ec5-67fb-45a9-c2ea-118e7992eb2a"
      },
      "execution_count": null,
      "outputs": [
        {
          "output_type": "execute_result",
          "data": {
            "text/plain": [
              "1.0"
            ]
          },
          "metadata": {},
          "execution_count": 7
        }
      ]
    },
    {
      "cell_type": "code",
      "source": [
        "#Rango\n",
        "#Data_prep_RR[:,1]\n",
        "np.max(Data_prep_RR[:,1])-np.min(Data_prep_RR[:,1])"
      ],
      "metadata": {
        "colab": {
          "base_uri": "https://localhost:8080/"
        },
        "id": "o_RLBkVWIeR4",
        "outputId": "a5b91d05-2e90-4bed-a3f7-40f9ee26e991"
      },
      "execution_count": null,
      "outputs": [
        {
          "output_type": "execute_result",
          "data": {
            "text/plain": [
              "1.0"
            ]
          },
          "metadata": {},
          "execution_count": 8
        }
      ]
    },
    {
      "cell_type": "code",
      "source": [
        "# a. (2 Puntos) ¿Cuánto vale la media, mediana, la desviación estándar muestral, \n",
        "# la varianza muestral y el rango de la variable X?\n",
        "\n",
        "import numpy as np\n",
        "\n",
        "x = [1,2,3,4,5,6,7,8,9,10]\n",
        "\n",
        "media = np.mean(x)\n",
        "mediana = np.median(x)\n",
        "desviacion = np.std(x)\n",
        "varianza = np.var(x)\n",
        "rango = np.argsort(x)\n",
        "\n",
        "print(f\" Media = {media}, Mediana = {mediana}\")\n",
        "print(f\" Desviación estándar = {desviacion}, Varianza = {varianza}\")\n",
        "print(f\" Rango = {rango}\")"
      ],
      "metadata": {
        "colab": {
          "base_uri": "https://localhost:8080/"
        },
        "id": "kASORw9F73dK",
        "outputId": "74856202-d5ac-44bc-8c71-d0e6f94b3de9"
      },
      "execution_count": null,
      "outputs": [
        {
          "output_type": "stream",
          "name": "stdout",
          "text": [
            " Media = 5.5, Mediana = 5.5\n",
            " Desviación estándar = 2.8722813232690143, Varianza = 8.25\n",
            " Rango = [0 1 2 3 4 5 6 7 8 9]\n"
          ]
        }
      ]
    },
    {
      "cell_type": "code",
      "source": [
        "# b. (1 Punto) Utilizar la función describe() de Panda, para obtener la media, \n",
        "# desviación estándar, etc…\n",
        "\n",
        "import pandas as pd\n",
        "\n",
        "Datos = pd.DataFrame(x, columns=['Descripción'])\n",
        "print(Datos.describe())"
      ],
      "metadata": {
        "colab": {
          "base_uri": "https://localhost:8080/"
        },
        "id": "cwPso9aW9O2P",
        "outputId": "4777720e-52fc-49bd-f47c-3a2d10125ca3"
      },
      "execution_count": null,
      "outputs": [
        {
          "output_type": "stream",
          "name": "stdout",
          "text": [
            "       Descripción\n",
            "count     10.00000\n",
            "mean       5.50000\n",
            "std        3.02765\n",
            "min        1.00000\n",
            "25%        3.25000\n",
            "50%        5.50000\n",
            "75%        7.75000\n",
            "max       10.00000\n"
          ]
        }
      ]
    },
    {
      "cell_type": "code",
      "source": [
        "#c. (1 Punto) ¿Por qué el resultado de calcular la desviación estándar con \n",
        "# Numpy es diferente a la calculada por describe de Panda? ¿Qué ajuste sería\n",
        "# necesario realizar para que los resultados fuesen similares/iguales?\n",
        "\n",
        "# ddof: grado de libertad, en Pandas es 1 y en Numpy es 0 por defecto\n",
        "\n",
        "desviacion_pd = Datos.std()\n",
        "desviacion_ajustada = np.std(x, ddof=1) # ddof: grado de libertad\n",
        "\n",
        "print(f\" Desviación Numpy = {desviacion}\")\n",
        "print(f\" Desviación Pandas = {desviacion_pd}\")\n",
        "print(f\" Desviación Numpy (ajustada)= {desviacion_ajustada}\")"
      ],
      "metadata": {
        "colab": {
          "base_uri": "https://localhost:8080/"
        },
        "id": "VOyhJOG4_CIs",
        "outputId": "17485b93-8c44-42db-8c0d-34ee0b8dba42"
      },
      "execution_count": null,
      "outputs": [
        {
          "output_type": "stream",
          "name": "stdout",
          "text": [
            " Desviación Numpy = 2.8722813232690143\n",
            " Desviación Pandas = Descripción    3.02765\n",
            "dtype: float64\n",
            " Desviación Numpy (ajustada)= 3.0276503540974917\n"
          ]
        }
      ]
    },
    {
      "cell_type": "code",
      "source": [
        "# MinMaxScaler - Definimos el tipo de escalamiento a realizar: Estandarización por rangos\n",
        "col_num = Datos.select_dtypes(include=['float64', 'int']).columns.to_list()\n",
        "escalamiento = ColumnTransformer(\n",
        "                   [('scale', MinMaxScaler(), col_num)],remainder='passthrough')\n",
        "\n",
        "Datos_Rango = escalamiento.fit_transform(Datos)\n",
        "media_rango = np.mean(Datos_Rango)\n",
        "mediana_rango = np.median(Datos_Rango)\n",
        "print(f\" Media = {media_rango}, Mediana = {mediana_rango}\")"
      ],
      "metadata": {
        "colab": {
          "base_uri": "https://localhost:8080/"
        },
        "id": "epUbz80_Zbqo",
        "outputId": "6d9d7d75-6002-4cdc-dcb8-5955f07a2291"
      },
      "execution_count": null,
      "outputs": [
        {
          "output_type": "stream",
          "name": "stdout",
          "text": [
            " Media = 0.5, Mediana = 0.5\n"
          ]
        }
      ]
    },
    {
      "cell_type": "code",
      "source": [
        "# Standard scaler - Definimos el tipo de escalamientoa realizar: estandarización Z-score\n",
        "z_score = ColumnTransformer(\n",
        "                   [('scale', StandardScaler(), col_num)],remainder='passthrough')\n",
        "\n",
        "Datos_Z = z_score.fit_transform(Datos)\n",
        "media_Z = np.mean(Datos_Z)\n",
        "mediana_Z = np.median(Datos_Z)\n",
        "print(f\" Media = {media_Z}, Mediana = {mediana_Z}\")"
      ],
      "metadata": {
        "colab": {
          "base_uri": "https://localhost:8080/"
        },
        "id": "f68VthUkc8pC",
        "outputId": "f434cbd5-f71b-493d-852f-30a2b6107876"
      },
      "execution_count": null,
      "outputs": [
        {
          "output_type": "stream",
          "name": "stdout",
          "text": [
            " Media = -6.661338147750939e-17, Mediana = 0.0\n"
          ]
        }
      ]
    }
  ]
}