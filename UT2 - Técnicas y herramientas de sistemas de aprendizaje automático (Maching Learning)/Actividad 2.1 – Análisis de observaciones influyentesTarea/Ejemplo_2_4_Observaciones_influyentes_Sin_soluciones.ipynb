{
  "nbformat": 4,
  "nbformat_minor": 0,
  "metadata": {
    "colab": {
      "provenance": []
    },
    "kernelspec": {
      "name": "python3",
      "display_name": "Python 3"
    },
    "language_info": {
      "name": "python"
    }
  },
  "cells": [
    {
      "cell_type": "markdown",
      "metadata": {
        "id": "JNlEk7ihS-5l"
      },
      "source": [
        "# **Ejemplo 2_4:** Determinación de observaciones influyentes: método de jackknife\n",
        "\n",
        "---\n",
        "\n"
      ]
    },
    {
      "cell_type": "markdown",
      "metadata": {
        "id": "xqnJ20FMVhDE"
      },
      "source": [
        "**PROBLEMA**: Queremos averiguar si existe algún dato  influyente para los procedimientos estadísticos de calcular la **media** y la **mediana**.\n",
        "> Vamos a generar una muestra simulando los ingresos de un vecindario. Supongamos que hay un vecino con unos ingresos signficativamente altos.\n",
        "\n"
      ]
    },
    {
      "cell_type": "code",
      "source": [
        "# LIBRERÍAS EMPLEADAS EN EL EJEMPLO\n",
        "# Tratamiento de datos\n",
        "# ==============================================================================\n",
        "import numpy as np\n",
        "import pandas as pd\n",
        "\n",
        "# Generación de datos\n",
        "# ==============================================================================\n",
        "# Generamos ingresos uniformemente distribuidos en [15000,25000]\n",
        "datos = 15000+np.random.rand(100)*10000\n",
        "datos"
      ],
      "metadata": {
        "colab": {
          "base_uri": "https://localhost:8080/"
        },
        "id": "e6NC0HJ7Tl4Q",
        "outputId": "22a2bc47-99e9-4a26-ff37-dfc15fccb0fd"
      },
      "execution_count": null,
      "outputs": [
        {
          "output_type": "execute_result",
          "data": {
            "text/plain": [
              "array([24223.53771792, 21198.22840871, 15316.48195819, 16951.00740214,\n",
              "       23262.38876462, 16228.28062912, 17635.57229303, 15305.37256821,\n",
              "       23768.36316589, 18191.414167  , 21602.42401282, 21818.93070948,\n",
              "       17443.72053855, 22102.73689142, 18979.27889488, 20908.61004023,\n",
              "       20845.77692753, 22238.51710694, 20524.37506237, 24318.10159437,\n",
              "       17757.29040649, 21509.56238363, 23340.52574867, 21376.78094909,\n",
              "       22483.18899739, 21139.49166072, 22529.16400521, 23735.87441371,\n",
              "       22543.78594514, 23238.32896817, 22559.00249689, 18193.60716462,\n",
              "       22428.87598583, 18857.30543015, 18154.90595471, 23901.30491057,\n",
              "       23825.68944833, 23032.60289835, 23582.98855558, 23398.97266587,\n",
              "       20671.1644055 , 23389.40423987, 17645.55796518, 15027.55897981,\n",
              "       20021.65304723, 15312.89357337, 21718.59208201, 17790.5403293 ,\n",
              "       21214.8107567 , 19520.85047718, 16997.65091999, 23227.36287876,\n",
              "       24885.71498652, 22252.15509304, 16742.66286218, 15735.55276788,\n",
              "       16518.3346068 , 24789.30370164, 19399.54229866, 20794.07729104,\n",
              "       15375.15062654, 19054.3948612 , 15123.52313924, 18821.66341117,\n",
              "       18358.29927422, 23562.60669236, 15323.26959294, 19960.09118288,\n",
              "       20444.78472862, 18207.78500108, 17798.88464011, 15163.93915665,\n",
              "       16193.2215502 , 18658.4115724 , 22267.92907719, 22492.33025057,\n",
              "       21155.54477179, 22104.03349471, 23123.24618054, 18477.82772572,\n",
              "       22404.06078407, 17755.36979741, 22509.00723025, 17065.93695504,\n",
              "       22413.61526881, 22522.40965244, 23014.15652403, 24701.99001373,\n",
              "       18101.2179465 , 18624.71190135, 24109.19755964, 15247.70099014,\n",
              "       18890.76230368, 18736.16153936, 18233.64329091, 16439.28008348,\n",
              "       17181.25006153, 18586.38618563, 16889.71027853, 24101.00626019])"
            ]
          },
          "metadata": {},
          "execution_count": 20
        }
      ]
    },
    {
      "cell_type": "markdown",
      "source": [
        "## Actividad 2.1 - Análisis de observaciones influyentes\n",
        "\n",
        "**1.** Apartir del código de ejemplo utilizado en el notebook: \n",
        "\n",
        "**Ejemplo_2_4_Observaciones_influyentes_Sin soluciones.ipynb**\n",
        "\n",
        "Responder a las siguientes preguntas:\n",
        "\n",
        "a. **(1 Punto)** Calcular la media y la mediana antes de realizar la modificación de \n",
        "incluir unos ingresos de 500.000€\n",
        "\n",
        "b. **(2 Puntos)** Aplicar el método de Probabilidad global, para detectar los outliers \n",
        "utilizado en el ejemplo 2_3_Outliers\n",
        "\n",
        "c. **(1 Punto)** Repetir el mismo procedimiento de detectar los outliers para la \n",
        "mediana: ¿Qué ocurre?"
      ],
      "metadata": {
        "id": "CbffMEZgnQsu"
      }
    },
    {
      "cell_type": "code",
      "source": [
        "# a. (1 Punto) Calcular la media y la mediana antes de realizar la modificación \n",
        "# de incluir unos ingresos de 500.000€\n",
        "\n",
        "media =  np.mean(datos)\n",
        "datos_or = np.sort(datos)\n",
        "mediana =  np.median (datos_or) # Es el valor central cuando los datos se ordenan\n",
        "print(f\" Media = {media} y Mediana = {mediana}\")"
      ],
      "metadata": {
        "colab": {
          "base_uri": "https://localhost:8080/"
        },
        "id": "6ibbu6_znNjP",
        "outputId": "217ade59-ed36-4169-ab74-9e8e381be7d8"
      },
      "execution_count": null,
      "outputs": [
        {
          "output_type": "stream",
          "name": "stdout",
          "text": [
            " Media = 20133.022626620303 y Mediana = 20597.769733933146\n"
          ]
        }
      ]
    },
    {
      "cell_type": "markdown",
      "source": [
        "**Ejercicio**: Calcular la media y la mediana antes de realizar la modificación de incluir unos ingresos de 500.000€"
      ],
      "metadata": {
        "id": "ayRFJ682gR2B"
      }
    },
    {
      "cell_type": "code",
      "metadata": {
        "id": "K3PddQTzeSbe",
        "colab": {
          "base_uri": "https://localhost:8080/"
        },
        "outputId": "f808cbe4-9cb5-4e5e-8f99-8e680656bd78"
      },
      "source": [
        "# El vecino 50 tiene unos ingresos significativamente mayores que el resto\n",
        "datos[50]=500000\n",
        "datos"
      ],
      "execution_count": null,
      "outputs": [
        {
          "output_type": "execute_result",
          "data": {
            "text/plain": [
              "array([ 24223.53771792,  21198.22840871,  15316.48195819,  16951.00740214,\n",
              "        23262.38876462,  16228.28062912,  17635.57229303,  15305.37256821,\n",
              "        23768.36316589,  18191.414167  ,  21602.42401282,  21818.93070948,\n",
              "        17443.72053855,  22102.73689142,  18979.27889488,  20908.61004023,\n",
              "        20845.77692753,  22238.51710694,  20524.37506237,  24318.10159437,\n",
              "        17757.29040649,  21509.56238363,  23340.52574867,  21376.78094909,\n",
              "        22483.18899739,  21139.49166072,  22529.16400521,  23735.87441371,\n",
              "        22543.78594514,  23238.32896817,  22559.00249689,  18193.60716462,\n",
              "        22428.87598583,  18857.30543015,  18154.90595471,  23901.30491057,\n",
              "        23825.68944833,  23032.60289835,  23582.98855558,  23398.97266587,\n",
              "        20671.1644055 ,  23389.40423987,  17645.55796518,  15027.55897981,\n",
              "        20021.65304723,  15312.89357337,  21718.59208201,  17790.5403293 ,\n",
              "        21214.8107567 ,  19520.85047718, 500000.        ,  23227.36287876,\n",
              "        24885.71498652,  22252.15509304,  16742.66286218,  15735.55276788,\n",
              "        16518.3346068 ,  24789.30370164,  19399.54229866,  20794.07729104,\n",
              "        15375.15062654,  19054.3948612 ,  15123.52313924,  18821.66341117,\n",
              "        18358.29927422,  23562.60669236,  15323.26959294,  19960.09118288,\n",
              "        20444.78472862,  18207.78500108,  17798.88464011,  15163.93915665,\n",
              "        16193.2215502 ,  18658.4115724 ,  22267.92907719,  22492.33025057,\n",
              "        21155.54477179,  22104.03349471,  23123.24618054,  18477.82772572,\n",
              "        22404.06078407,  17755.36979741,  22509.00723025,  17065.93695504,\n",
              "        22413.61526881,  22522.40965244,  23014.15652403,  24701.99001373,\n",
              "        18101.2179465 ,  18624.71190135,  24109.19755964,  15247.70099014,\n",
              "        18890.76230368,  18736.16153936,  18233.64329091,  16439.28008348,\n",
              "        17181.25006153,  18586.38618563,  16889.71027853,  24101.00626019])"
            ]
          },
          "metadata": {},
          "execution_count": 22
        }
      ]
    },
    {
      "cell_type": "markdown",
      "metadata": {
        "id": "iba-kYjPgMR6"
      },
      "source": [
        "Cálculo de media y mediana en toda la muestra"
      ]
    },
    {
      "cell_type": "code",
      "metadata": {
        "colab": {
          "base_uri": "https://localhost:8080/"
        },
        "id": "V-xhWMdvdf1H",
        "outputId": "2c0a889a-1a39-4ed5-bc04-d26f76f745ca"
      },
      "source": [
        "media = np.mean(datos)\n",
        "datos_or = np.sort(datos)\n",
        "mediana = np.median (datos_or) # Es el valor central cuando los datos se ordenan\n",
        "print(f\" Media = {media} y Mediana = {mediana}\")"
      ],
      "execution_count": null,
      "outputs": [
        {
          "output_type": "stream",
          "name": "stdout",
          "text": [
            " Media = 24963.04611742036 y Mediana = 20732.620848266335\n"
          ]
        }
      ]
    },
    {
      "cell_type": "markdown",
      "metadata": {
        "id": "Ippzu4RWYVMr"
      },
      "source": [
        "Notar que los ingresos del barrio son 20000 euros. El hecho que se haya trasladado un vecino rico ha incrementando en casi 5000 euros la media. La mediana es insensible a este hecho. Se trata de identificar que datos son influyentess para los dos procedimientos estadísticos"
      ]
    },
    {
      "cell_type": "markdown",
      "source": [
        "**Ejercicio**: Aplicar el método de Probabilidad global, para detectar los outliers utilizado en el ejemplo 2_3_Outliers"
      ],
      "metadata": {
        "id": "KWZNffk-f-Aq"
      }
    },
    {
      "cell_type": "code",
      "source": [
        "# b. (2 Puntos) Aplicar el método de Probabilidad global, para detectar los \n",
        "# outliers utilizado en el ejemplo 2_3_Outliers\n",
        "\n",
        "import scipy.stats as st\n",
        "\n",
        "p_g = 0.95\n",
        "alfa_g = (1-p_g)/2\n",
        "alfa = 1-(1-alfa_g)**(1/len(datos)) \n",
        "Z_alfa = st.norm.ppf(1-alfa/2)\n",
        "alfa = round(alfa,5)\n",
        "Z_alfa = round(Z_alfa,5)\n",
        "print(f\" Alfa = {alfa}\")\n",
        "print(f\" CUANTIL Z_(1-alfa/2) = {Z_alfa}\")\n",
        "\n",
        "xL = round(np.mean(datos)-Z_alfa*  np.std(datos),4)\n",
        "xU = round(np.mean(datos)+Z_alfa*  np.std(datos),4)\n",
        "print(f\" Banda= [ {xL},{xU}]\")\n",
        "\n",
        "for i in  range(len(datos)):\n",
        "        if datos[i] < xL  or datos[i]>xU:\n",
        "          print(f\" El dato[{i}]={datos[i]} es un outlier\")"
      ],
      "metadata": {
        "colab": {
          "base_uri": "https://localhost:8080/"
        },
        "id": "xyAPdD3ulC1I",
        "outputId": "06ced5dd-fad1-4331-c8a3-a0448783450f"
      },
      "execution_count": null,
      "outputs": [
        {
          "output_type": "stream",
          "name": "stdout",
          "text": [
            " Alfa = 0.00025\n",
            " CUANTIL Z_(1-alfa/2) = 3.65906\n",
            " Banda= [ -150045.0674,199971.1596]\n",
            " El dato[50]=500000.0 es un outlier\n"
          ]
        }
      ]
    },
    {
      "cell_type": "markdown",
      "metadata": {
        "id": "pBsJTzKHUegV"
      },
      "source": [
        "Otra forma de detactar los outliers\n",
        "\n",
        "**Método :**  Detectemos los outlier de phi medinate el método Jackknife y a continuación aplicamos el método de la distancia entre Quartiles"
      ]
    },
    {
      "cell_type": "code",
      "metadata": {
        "colab": {
          "base_uri": "https://localhost:8080/"
        },
        "id": "Aa2N8m89Y4mN",
        "outputId": "df04985f-70eb-4731-a05d-6aacd8db2d50"
      },
      "source": [
        "phi=np.zeros(len(datos)) # phi es un array de la misma longitud que datos pero con el valor cero en cada una de sus posiciones\n",
        "# En el bucle lo que se realiza es el método Jackknife, es decir, prepara los datos para realizar un análisis estadístico sin el dato i.\n",
        "# Para ello, calcula la media de todos los elementos excluyendo el elemento de la posición i que está procesando en el bucle.   \n",
        "# De forma que obtiene un índice de calidad del modelo para cada uno de los elementos\n",
        "for i in  range(len(datos)):\n",
        "  datos_aux=datos\n",
        "  datos_sin_i=np.delete(datos_aux, i)\n",
        "  phi[i]=np.mean(datos_sin_i)   \n",
        "phi      "
      ],
      "execution_count": null,
      "outputs": [
        {
          "output_type": "execute_result",
          "data": {
            "text/plain": [
              "array([24614.39618376, 24595.94632272, 24620.98645133, 24607.68290695,\n",
              "       24571.9036604 , 24656.9093152 , 24594.73416784, 24559.56681027,\n",
              "       24592.83517294, 24634.64580949, 24642.33183517, 24573.83969506,\n",
              "       24577.55683722, 24632.86183144, 24562.15293116, 24577.06418309,\n",
              "       24619.67114149, 24584.94580713, 24616.81111048, 24623.95833741,\n",
              "       24568.82529019, 24565.3156203 , 24598.4775626 , 24611.02653551,\n",
              "       24640.05924059, 24633.01063354, 24627.45139292, 24655.99302814,\n",
              "       24610.46758792, 24648.28472999, 24590.45839336, 24616.95370034,\n",
              "       24571.55178782, 24591.26238693, 24653.5952306 , 24635.3807152 ,\n",
              "       24636.73687897, 24568.48273084, 24629.99098196, 24627.0852763 ,\n",
              "       24623.42563439, 24656.52000401, 24558.45593189, 24603.56369927,\n",
              "       24638.57689742, 24590.41721102, 24609.62975816, 24654.12529081,\n",
              "       24614.51942467, 24642.23085567, 19759.10073507, 24630.90111062,\n",
              "       24594.17283634, 24642.68591034, 24616.44006111, 24612.56687759,\n",
              "       24626.20779493, 24629.02527492, 24630.2217941 , 24636.04354321,\n",
              "       24617.52500287, 24654.76576583, 24613.74155646, 24577.18736434,\n",
              "       24649.14101378, 24622.56072161, 24608.98999219, 24630.03803698,\n",
              "       24618.54583183, 24571.32714858, 24558.87769111, 24584.97016137,\n",
              "       24612.52458405, 24646.92215552, 24578.47163784, 24577.09178817,\n",
              "       24615.59666098, 24655.89485942, 24586.64341338, 24571.51731813,\n",
              "       24642.6095876 , 24592.16320963, 24616.13056894, 24572.84865963,\n",
              "       24581.56824361, 24601.09934865, 24581.73542882, 24594.1571936 ,\n",
              "       24643.71922381, 24575.10328674, 24563.22598639, 24576.7815655 ,\n",
              "       24567.95650208, 24657.2305042 , 24602.97556284, 24622.73009338,\n",
              "       24641.11210584, 24632.19216426, 24575.11121464, 24648.14875737])"
            ]
          },
          "metadata": {},
          "execution_count": 16
        }
      ]
    },
    {
      "cell_type": "code",
      "metadata": {
        "colab": {
          "base_uri": "https://localhost:8080/"
        },
        "id": "02SEYuHJ-iol",
        "outputId": "2d9376a6-e413-4b76-c28c-1ab256f8b363"
      },
      "source": [
        "# Aplicamos el método de la distancia entre cuartiles, en este caso, al aplicar el método Jackknife no obtenemos el valor del elemento que es considerado Outlier, sino la posición del mismo.\n",
        "Q1 = np.quantile(phi,0.25)\n",
        "Q3 = np.quantile(phi,0.75)\n",
        "IQR = Q3 - Q1\n",
        "xL=Q1 - 1.5 * IQR\n",
        "xU=Q3 + 1.5 * IQR\n",
        "for i in  range(len(datos)):\n",
        "        if phi[i] < xL  or phi[i]>xU:\n",
        "          print(f\" El dato {i} es una observación influyente para la media\")"
      ],
      "execution_count": null,
      "outputs": [
        {
          "output_type": "stream",
          "name": "stdout",
          "text": [
            " El dato 50 es una observación influyente para la media\n"
          ]
        }
      ]
    },
    {
      "cell_type": "markdown",
      "metadata": {
        "id": "Jdusuj-NhGIM"
      },
      "source": [
        "**Ejercicio**: Repetir el mismo procedimiento de detectar los outliers para la mediana: ¿Qué ocurre?"
      ]
    },
    {
      "cell_type": "markdown",
      "source": [
        "## Método Jackknife"
      ],
      "metadata": {
        "id": "lPuczpHCoWJ7"
      }
    },
    {
      "cell_type": "code",
      "source": [
        "# c. (1 Punto) Repetir el mismo procedimiento de detectar los outliers \n",
        "# para la mediana: ¿Qué ocurre?\n",
        "\n",
        "phi = np.zeros(len(datos))\n",
        "for i in  range(len(datos)):\n",
        "  datos_aux = datos\n",
        "  datos_sin_i = np.delete(datos_aux, i)\n",
        "  phi[i] = np.median(datos_sin_i) # Mediana\n",
        "phi\n",
        "\n",
        "Q1 = np.quantile(phi,0.25)\n",
        "Q3 = np.quantile(phi,0.75)\n",
        "IQR = Q3 - Q1\n",
        "xL = Q1 - 1.5 * IQR\n",
        "xU = Q3 + 1.5 * IQR\n",
        "\n",
        "for i in  range(len(datos)):\n",
        "        if phi[i] < xL  or phi[i] > xU:\n",
        "          print(f\" El dato {i} es una observación influyente para la mediana\")"
      ],
      "metadata": {
        "id": "Pvq39J0xocOB"
      },
      "execution_count": null,
      "outputs": []
    },
    {
      "cell_type": "code",
      "source": [
        "print(phi)\n",
        "print(\"---\")\n",
        "phi_o = np.sort(phi)\n",
        "print(phi_o)"
      ],
      "metadata": {
        "colab": {
          "base_uri": "https://localhost:8080/"
        },
        "id": "RzchGN9Uzh8_",
        "outputId": "60170932-a303-4949-da96-3000a1e739b9"
      },
      "execution_count": null,
      "outputs": [
        {
          "output_type": "stream",
          "name": "stdout",
          "text": [
            "[20671.1644055  20671.1644055  20794.07729104 20794.07729104\n",
            " 20671.1644055  20794.07729104 20794.07729104 20794.07729104\n",
            " 20671.1644055  20794.07729104 20671.1644055  20671.1644055\n",
            " 20794.07729104 20671.1644055  20794.07729104 20671.1644055\n",
            " 20671.1644055  20671.1644055  20794.07729104 20671.1644055\n",
            " 20794.07729104 20671.1644055  20671.1644055  20671.1644055\n",
            " 20671.1644055  20671.1644055  20671.1644055  20671.1644055\n",
            " 20671.1644055  20671.1644055  20671.1644055  20794.07729104\n",
            " 20671.1644055  20794.07729104 20794.07729104 20671.1644055\n",
            " 20671.1644055  20671.1644055  20671.1644055  20671.1644055\n",
            " 20794.07729104 20671.1644055  20794.07729104 20794.07729104\n",
            " 20794.07729104 20794.07729104 20671.1644055  20794.07729104\n",
            " 20671.1644055  20794.07729104 20671.1644055  20671.1644055\n",
            " 20671.1644055  20671.1644055  20794.07729104 20794.07729104\n",
            " 20794.07729104 20671.1644055  20794.07729104 20671.1644055\n",
            " 20794.07729104 20794.07729104 20794.07729104 20794.07729104\n",
            " 20794.07729104 20671.1644055  20794.07729104 20794.07729104\n",
            " 20794.07729104 20794.07729104 20794.07729104 20794.07729104\n",
            " 20794.07729104 20794.07729104 20671.1644055  20671.1644055\n",
            " 20671.1644055  20671.1644055  20671.1644055  20794.07729104\n",
            " 20671.1644055  20794.07729104 20671.1644055  20794.07729104\n",
            " 20671.1644055  20671.1644055  20671.1644055  20671.1644055\n",
            " 20794.07729104 20794.07729104 20671.1644055  20794.07729104\n",
            " 20794.07729104 20794.07729104 20794.07729104 20794.07729104\n",
            " 20794.07729104 20794.07729104 20794.07729104 20671.1644055 ]\n",
            "---\n",
            "[20671.1644055  20671.1644055  20671.1644055  20671.1644055\n",
            " 20671.1644055  20671.1644055  20671.1644055  20671.1644055\n",
            " 20671.1644055  20671.1644055  20671.1644055  20671.1644055\n",
            " 20671.1644055  20671.1644055  20671.1644055  20671.1644055\n",
            " 20671.1644055  20671.1644055  20671.1644055  20671.1644055\n",
            " 20671.1644055  20671.1644055  20671.1644055  20671.1644055\n",
            " 20671.1644055  20671.1644055  20671.1644055  20671.1644055\n",
            " 20671.1644055  20671.1644055  20671.1644055  20671.1644055\n",
            " 20671.1644055  20671.1644055  20671.1644055  20671.1644055\n",
            " 20671.1644055  20671.1644055  20671.1644055  20671.1644055\n",
            " 20671.1644055  20671.1644055  20671.1644055  20671.1644055\n",
            " 20671.1644055  20671.1644055  20671.1644055  20671.1644055\n",
            " 20671.1644055  20671.1644055  20794.07729104 20794.07729104\n",
            " 20794.07729104 20794.07729104 20794.07729104 20794.07729104\n",
            " 20794.07729104 20794.07729104 20794.07729104 20794.07729104\n",
            " 20794.07729104 20794.07729104 20794.07729104 20794.07729104\n",
            " 20794.07729104 20794.07729104 20794.07729104 20794.07729104\n",
            " 20794.07729104 20794.07729104 20794.07729104 20794.07729104\n",
            " 20794.07729104 20794.07729104 20794.07729104 20794.07729104\n",
            " 20794.07729104 20794.07729104 20794.07729104 20794.07729104\n",
            " 20794.07729104 20794.07729104 20794.07729104 20794.07729104\n",
            " 20794.07729104 20794.07729104 20794.07729104 20794.07729104\n",
            " 20794.07729104 20794.07729104 20794.07729104 20794.07729104\n",
            " 20794.07729104 20794.07729104 20794.07729104 20794.07729104\n",
            " 20794.07729104 20794.07729104 20794.07729104 20794.07729104]\n"
          ]
        }
      ]
    },
    {
      "cell_type": "markdown",
      "source": [
        "## Probabilidad Global"
      ],
      "metadata": {
        "id": "kUlqyErSoOA5"
      }
    },
    {
      "cell_type": "code",
      "source": [
        "import scipy.stats as st\n",
        "\n",
        "p_g = 0.95\n",
        "alfa_g = (1-p_g)/2\n",
        "alfa = 1-(1-alfa_g)**(1/len(datos)) \n",
        "Z_alfa = st.norm.ppf(1-alfa/2)\n",
        "alfa = round(alfa,5)\n",
        "Z_alfa = round(Z_alfa,5)\n",
        "print(f\" Alfa = {alfa}\")\n",
        "print(f\" CUANTIL Z_(1-alfa/2) = {Z_alfa}\")\n",
        "\n",
        "xL = round(np.median(datos)-Z_alfa*  np.std(datos),4) # Mediana\n",
        "xU = round(np.median(datos)+Z_alfa*  np.std(datos),4) # Mediana\n",
        "print(f\" Banda= [ {xL},{xU}]\")\n",
        "\n",
        "for i in  range(len(datos)):\n",
        "        if datos[i] < xL  or datos[i]>xU:\n",
        "          print(f\" El dato[{i}]={datos[i]} es un outlier\")"
      ],
      "metadata": {
        "colab": {
          "base_uri": "https://localhost:8080/"
        },
        "id": "jwPQhhqjn3kJ",
        "outputId": "d0c6593b-8b5d-4e5b-d624-43c0d3f61326"
      },
      "execution_count": null,
      "outputs": [
        {
          "output_type": "stream",
          "name": "stdout",
          "text": [
            " Alfa = 0.00025\n",
            " CUANTIL Z_(1-alfa/2) = 3.65906\n",
            " Banda= [ -155792.1313,194508.4406]\n",
            " El dato[50]=500000.0 es un outlier\n"
          ]
        }
      ]
    }
  ]
}