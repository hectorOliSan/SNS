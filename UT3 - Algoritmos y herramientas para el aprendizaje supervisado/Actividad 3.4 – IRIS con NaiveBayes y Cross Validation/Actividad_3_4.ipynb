{
  "nbformat": 4,
  "nbformat_minor": 0,
  "metadata": {
    "colab": {
      "provenance": []
    },
    "kernelspec": {
      "name": "python3",
      "display_name": "Python 3"
    },
    "language_info": {
      "name": "python"
    }
  },
  "cells": [
    {
      "cell_type": "markdown",
      "source": [
        "# **Actividad 3.4** – IRIS con NaiveBayes y Cross Validation:"
      ],
      "metadata": {
        "id": "S4WVmUGm2VqS"
      }
    },
    {
      "cell_type": "markdown",
      "source": [
        "## Importación de los datos"
      ],
      "metadata": {
        "id": "qIZp2HhX2Gwp"
      }
    },
    {
      "cell_type": "code",
      "execution_count": 9,
      "metadata": {
        "id": "AKcP_O1517-4"
      },
      "outputs": [],
      "source": [
        "# importación de datos\n",
        "import seaborn as sns\n",
        "iris = sns.load_dataset('iris')"
      ]
    },
    {
      "cell_type": "code",
      "source": [
        "# separamos datos de entrada y salida\n",
        "X_iris = iris.drop('species', axis=1)\n",
        "y_iris = iris['species']\n",
        "# separamos train y test\n",
        "from sklearn.model_selection import train_test_split\n",
        "Xtrain, Xtest, ytrain, ytest = train_test_split(X_iris, y_iris, test_size=0.3, random_state=1)"
      ],
      "metadata": {
        "id": "uGW3Putr3RFQ"
      },
      "execution_count": 10,
      "outputs": []
    },
    {
      "cell_type": "markdown",
      "source": [
        "## Sin CrossValidation"
      ],
      "metadata": {
        "id": "Jf8bowwyWiVF"
      }
    },
    {
      "cell_type": "code",
      "source": [
        "from matplotlib.colors import ListedColormap\n",
        "from sklearn.preprocessing import StandardScaler, MinMaxScaler\n",
        "from sklearn.metrics import accuracy_score\n",
        "from sklearn.naive_bayes import GaussianNB, MultinomialNB, BernoulliNB, ComplementNB, CategoricalNB\n",
        "\n",
        "# classifiers\n",
        "names = [\"GaussianNB\", \"MultiNomialNB\", 'BernouilliNB', 'ComplementNB', 'CategoricalNB']\n",
        "classifiers = [GaussianNB(), MultinomialNB(), BernoulliNB(), ComplementNB(), CategoricalNB()]\n",
        "\n",
        "for name, clf in zip(names, classifiers):\n",
        "  \n",
        "  # FIT THE MODEL\n",
        "  clf.fit(Xtrain, ytrain)\n",
        "  # PREDIT AND SCORE  \n",
        "  score = clf.score(Xtest, ytest) #Returns the mean accuracy on the given test data and labels.\n",
        "  print (\"Modelo: %s = %6.2f\" % (name, score))"
      ],
      "metadata": {
        "colab": {
          "base_uri": "https://localhost:8080/"
        },
        "id": "xDtkv5bf3X_A",
        "outputId": "36dee9a7-dfdf-4d8b-87ef-c969dc566e56"
      },
      "execution_count": 11,
      "outputs": [
        {
          "output_type": "stream",
          "name": "stdout",
          "text": [
            "Modelo: GaussianNB =   0.93\n",
            "Modelo: MultiNomialNB =   0.64\n",
            "Modelo: BernouilliNB =   0.29\n",
            "Modelo: ComplementNB =   0.60\n",
            "Modelo: CategoricalNB =   0.98\n"
          ]
        }
      ]
    },
    {
      "cell_type": "markdown",
      "source": [
        "## Con CrossValidation"
      ],
      "metadata": {
        "id": "YjiBQEXBWpTw"
      }
    },
    {
      "cell_type": "code",
      "source": [
        "# con CrossValidation\n",
        "from sklearn.model_selection import KFold\n",
        "cv = KFold(n_splits = 5, shuffle = True) \n",
        "total_scores = []\n",
        "for name, clf in zip(names, classifiers):\n",
        "  fold_accuracy = []\n",
        "  for train_fold, test_fold in cv.split(Xtrain):\n",
        "    # División train test aleatoria\n",
        "    # Extrae la información (iloc), atendiendo a los indices obtenidos por CrossValidation\n",
        "    f_train_x = Xtrain.iloc[train_fold]\n",
        "    f_train_y = ytrain.iloc[train_fold]\n",
        "    # entrenamiento y ejeución del modelo\n",
        "    clf.fit(f_train_x, f_train_y)\n",
        "    # Realizamos la predicción (Final evaluation) \n",
        "    # y guardamos la precisión para calcular la media posteriormente\n",
        "    y_pred = clf.predict(Xtrain.iloc[test_fold])\n",
        "    # evaluación del modelo\n",
        "    acc = accuracy_score(ytrain.iloc[test_fold], y_pred)\n",
        "    fold_accuracy.append(acc)\n",
        "  total_scores.append(sum(fold_accuracy)/len(fold_accuracy))\n",
        "\n",
        "for i in range(len(names)):\n",
        "  print (\"Modelo: %s = %6.2f\" % (names[i], total_scores[i]))"
      ],
      "metadata": {
        "colab": {
          "base_uri": "https://localhost:8080/"
        },
        "id": "8B9zkS8g30S4",
        "outputId": "4d0ca3c0-da82-4000-9ce1-0de4c71a09df"
      },
      "execution_count": 12,
      "outputs": [
        {
          "output_type": "stream",
          "name": "stdout",
          "text": [
            "Modelo: GaussianNB =   0.95\n",
            "Modelo: MultiNomialNB =   0.74\n",
            "Modelo: BernouilliNB =   0.28\n",
            "Modelo: ComplementNB =   0.70\n",
            "Modelo: CategoricalNB =   0.90\n"
          ]
        }
      ]
    }
  ]
}