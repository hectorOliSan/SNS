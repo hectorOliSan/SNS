{
  "nbformat": 4,
  "nbformat_minor": 0,
  "metadata": {
    "colab": {
      "provenance": []
    },
    "kernelspec": {
      "name": "python3",
      "display_name": "Python 3"
    },
    "language_info": {
      "name": "python"
    }
  },
  "cells": [
    {
      "cell_type": "markdown",
      "source": [
        "Actividad 3.1 - Métricas de error para los problemas de regresión\n",
        "\n",
        "A partir de los ejemplos indicados realizar los ejercicios propuestos"
      ],
      "metadata": {
        "id": "irnc2RYVuYVU"
      }
    },
    {
      "cell_type": "code",
      "execution_count": 1,
      "metadata": {
        "colab": {
          "base_uri": "https://localhost:8080/"
        },
        "id": "jVLFdfzxdsfG",
        "outputId": "09a4a822-0a82-4bc1-af02-8b3ebaa3e20d"
      },
      "outputs": [
        {
          "output_type": "execute_result",
          "data": {
            "text/plain": [
              "0.5"
            ]
          },
          "metadata": {},
          "execution_count": 1
        }
      ],
      "source": [
        "#Error absoluto medio - mae\n",
        "from sklearn.metrics import mean_absolute_error\n",
        "# Ejemplo 1\n",
        "y_true = [3, -0.5, 2, 7]\n",
        "y_pred = [2.5, 0, 2, 8]\n",
        "mean_absolute_error(y_true, y_pred)\n"
      ]
    },
    {
      "cell_type": "code",
      "source": [
        "# Ejer 1: Crear dos vectores/arrays de valores ciertos y valores previstos, y calcular el mae. \n",
        "# ¿Qué valores deberían de tener el array pred para que el error fuese 0? ¿y para que error fuese de 0.25?\n",
        "# Error = 0\n",
        "y_true = [1, 2, 3]\n",
        "y_pred = [1, 2, 3]\n",
        "print(mean_absolute_error(y_true, y_pred))\n",
        "\n",
        "# Error = 0.25\n",
        "y_true = [1, 2, 3]\n",
        "y_pred = [0.5, 2.25, 3]\n",
        "print(mean_absolute_error(y_true, y_pred))"
      ],
      "metadata": {
        "id": "67XK1bXegMai",
        "colab": {
          "base_uri": "https://localhost:8080/"
        },
        "outputId": "61ed67e1-6e81-4d83-9ced-f2d3b0ac0138"
      },
      "execution_count": 140,
      "outputs": [
        {
          "output_type": "stream",
          "name": "stdout",
          "text": [
            "0.0\n",
            "0.25\n"
          ]
        }
      ]
    },
    {
      "cell_type": "code",
      "source": [
        "# Ejemplo 2\n",
        "y_true = [[0.5, 1], [-1, 1], [7, -6]]\n",
        "y_pred = [[0, 2], [-1, 2], [8, -5]]\n",
        "mean_absolute_error(y_true, y_pred)"
      ],
      "metadata": {
        "id": "3LhzsD30f60T",
        "colab": {
          "base_uri": "https://localhost:8080/"
        },
        "outputId": "6fc07fc3-9405-4d1f-f7f2-2cefd2f73756"
      },
      "execution_count": 7,
      "outputs": [
        {
          "output_type": "execute_result",
          "data": {
            "text/plain": [
              "0.75"
            ]
          },
          "metadata": {},
          "execution_count": 7
        }
      ]
    },
    {
      "cell_type": "code",
      "source": [
        "# Ejer 2: Crear dos matrices/arrays de valores ciertos y valores previstos, y calcular el mae. \n",
        "# ¿Qué valores deberían de tener el array pred para que el error fuese 0? ¿y para que error fuese de 0.33?\n",
        "# Error = 0\n",
        "y_true = [[1,2], [2,3], [3,4]]\n",
        "y_pred = [[1,2], [2,3], [3,4]]\n",
        "print(mean_absolute_error(y_true, y_pred))\n",
        "\n",
        "# Error = 0.33\n",
        "y_true = [[1,2], [2,3], [3,4]]\n",
        "y_pred = [[1,2], [2,2], [3,3]]\n",
        "print(mean_absolute_error(y_true, y_pred))"
      ],
      "metadata": {
        "id": "LnPx6A4Astfq",
        "colab": {
          "base_uri": "https://localhost:8080/"
        },
        "outputId": "0d6ca6d1-c75e-486f-b900-2feb57efdbe5"
      },
      "execution_count": 10,
      "outputs": [
        {
          "output_type": "stream",
          "name": "stdout",
          "text": [
            "0.0\n",
            "0.3333333333333333\n"
          ]
        }
      ]
    },
    {
      "cell_type": "code",
      "source": [
        "# Error cuadrático medio - mse\n",
        "from sklearn.metrics import mean_squared_error\n",
        "y_true = [3, -0.5, 2, 7]\n",
        "y_pred = [2.5, 0.0, 2, 8]\n",
        "mean_squared_error(y_true, y_pred)"
      ],
      "metadata": {
        "colab": {
          "base_uri": "https://localhost:8080/"
        },
        "id": "59efr-GWgKP6",
        "outputId": "62f810d9-afed-4fb3-ab63-a9634d14ca40"
      },
      "execution_count": 11,
      "outputs": [
        {
          "output_type": "execute_result",
          "data": {
            "text/plain": [
              "0.375"
            ]
          },
          "metadata": {},
          "execution_count": 11
        }
      ]
    },
    {
      "cell_type": "code",
      "source": [
        "# Ejer 3: Crear dos vectores/arrays de valores ciertos y valores previstos, y calcular el mse. \n",
        "# ¿Qué valores deberían de tener el array pred para que el error fuese 0? ¿y para que error fuese de 0.25?\n",
        "# Nota: Es muy interesante comparar los resultados al aplicaer mae y mse sobre el mismo conjunto de datos. Podrás obervar\n",
        "# que mse \"penaliza más\" (es decir, el número que se obtiene es mayor) con las diferencias entre los valores origianles y los preduchos que mae\n",
        "# Error = 0\n",
        "y_true = [1, 2, 3, 4]\n",
        "y_pred = [1, 2, 3, 4]\n",
        "print(mean_squared_error(y_true, y_pred))\n",
        "\n",
        "# Error = 0.25\n",
        "y_true = [1, 1.5, 3, 4.5]\n",
        "y_pred = [0.5, 2, 3.5, 4]\n",
        "print(mean_squared_error(y_true, y_pred))"
      ],
      "metadata": {
        "id": "FLZt6j17u7sE",
        "colab": {
          "base_uri": "https://localhost:8080/"
        },
        "outputId": "6a56b340-38b2-4568-b97a-6246237023cb"
      },
      "execution_count": 119,
      "outputs": [
        {
          "output_type": "stream",
          "name": "stdout",
          "text": [
            "0.0\n",
            "0.25\n"
          ]
        }
      ]
    },
    {
      "cell_type": "code",
      "source": [
        "# Ejer 4: Crear dos matrices/arrays de valores ciertos y valores previstos, y calcular el mae. \n",
        "# ¿Qué valores deberían de tener el array pred para que el error fuese 0? ¿y para que error fuese de 0.33?\n",
        "# Error = 0\n",
        "y_true = [[1,2], [2,3], [3,4]]\n",
        "y_pred = [[1,2], [2,3], [3,4]]\n",
        "print(mean_squared_error(y_true, y_pred))\n",
        "\n",
        "# Error = 0.33\n",
        "y_true = [[1,2], [2,3], [3,4]]\n",
        "y_pred = [[1,1], [2,2], [3,4]]\n",
        "print(mean_squared_error(y_true, y_pred))"
      ],
      "metadata": {
        "id": "M9nZd4nLvIRB",
        "colab": {
          "base_uri": "https://localhost:8080/"
        },
        "outputId": "6728c618-bd52-47d9-f8ef-673f69052a1c"
      },
      "execution_count": 139,
      "outputs": [
        {
          "output_type": "stream",
          "name": "stdout",
          "text": [
            "0.0\n",
            "0.3333333333333333\n"
          ]
        }
      ]
    },
    {
      "cell_type": "code",
      "source": [
        "# Error de porcentaje absoluto medio - mape\n",
        "from sklearn.metrics import mean_absolute_percentage_error\n",
        "y_true = [3, -0.5, 2, 7]\n",
        "y_pred = [2.5, 0.0, 2, 8]\n",
        "mean_absolute_percentage_error(y_true, y_pred)"
      ],
      "metadata": {
        "colab": {
          "base_uri": "https://localhost:8080/"
        },
        "id": "0j3DDJPnBTmF",
        "outputId": "0220b3b8-39e7-4ceb-ac6c-a10b8e9867ce"
      },
      "execution_count": 142,
      "outputs": [
        {
          "output_type": "execute_result",
          "data": {
            "text/plain": [
              "0.3273809523809524"
            ]
          },
          "metadata": {},
          "execution_count": 142
        }
      ]
    },
    {
      "cell_type": "code",
      "source": [
        "# Ejer 5: Crear dos vectores/arrays de valores ciertos y valores previstos, y calcular el mape. \n",
        "# ¿Qué valores deberían de tener el array pred para que el error fuese 0?\n",
        "# Error = 0\n",
        "y_true = [1, 2, 3]\n",
        "y_pred = [1, 2, 3]\n",
        "print(mean_absolute_percentage_error(y_true, y_pred))\n",
        "\n",
        "# Error = 0.25\n",
        "y_true = [1, 2, 3]\n",
        "y_pred = [1, 2.50, 4.50]\n",
        "print(mean_absolute_percentage_error(y_true, y_pred))"
      ],
      "metadata": {
        "id": "0vsYXdRqB0TE",
        "colab": {
          "base_uri": "https://localhost:8080/"
        },
        "outputId": "541a4aed-bf16-4134-a391-be381f992801"
      },
      "execution_count": 155,
      "outputs": [
        {
          "output_type": "stream",
          "name": "stdout",
          "text": [
            "0.0\n",
            "0.25\n"
          ]
        }
      ]
    },
    {
      "cell_type": "code",
      "source": [
        "# Ejer 6: Crear dos matrices/arrays de valores ciertos y valores previstos, y calcular el MAPE. \n",
        "# ¿Qué valores deberían de tener el array pred para que el error fuese 0? \n",
        "# Error = 0\n",
        "y_true = [[1,2], [2,3]]\n",
        "y_pred = [[1,2], [2,3]]\n",
        "print(mean_absolute_percentage_error(y_true, y_pred))\n",
        "\n",
        "# Error = 0.33\n",
        "y_true = [[1,2], [2,3]]\n",
        "y_pred = [[1.5,2.5], [2.5,4]]\n",
        "print(mean_absolute_percentage_error(y_true, y_pred))"
      ],
      "metadata": {
        "id": "i7TOeQ9FCPJK",
        "colab": {
          "base_uri": "https://localhost:8080/"
        },
        "outputId": "3a5ab2eb-af08-4c47-c037-c65a049f2234"
      },
      "execution_count": 170,
      "outputs": [
        {
          "output_type": "stream",
          "name": "stdout",
          "text": [
            "0.0\n",
            "0.3333333333333333\n"
          ]
        }
      ]
    }
  ]
}